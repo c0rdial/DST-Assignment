{
 "cells": [
  {
   "cell_type": "code",
   "execution_count": 1,
   "id": "7f923465",
   "metadata": {},
   "outputs": [
    {
     "name": "stdout",
     "output_type": "stream",
     "text": [
      "Requirement already satisfied: spotipy in ./opt/anaconda3/lib/python3.9/site-packages (2.22.1)\n",
      "Requirement already satisfied: urllib3>=1.26.0 in ./opt/anaconda3/lib/python3.9/site-packages (from spotipy) (1.26.7)\n",
      "Requirement already satisfied: six>=1.15.0 in ./opt/anaconda3/lib/python3.9/site-packages (from spotipy) (1.16.0)\n",
      "Requirement already satisfied: redis>=3.5.3 in ./opt/anaconda3/lib/python3.9/site-packages (from spotipy) (4.5.1)\n",
      "Requirement already satisfied: requests>=2.25.0 in ./opt/anaconda3/lib/python3.9/site-packages (from spotipy) (2.26.0)\n",
      "Requirement already satisfied: async-timeout>=4.0.2 in ./opt/anaconda3/lib/python3.9/site-packages (from redis>=3.5.3->spotipy) (4.0.2)\n",
      "Requirement already satisfied: certifi>=2017.4.17 in ./opt/anaconda3/lib/python3.9/site-packages (from requests>=2.25.0->spotipy) (2021.10.8)\n",
      "Requirement already satisfied: idna<4,>=2.5 in ./opt/anaconda3/lib/python3.9/site-packages (from requests>=2.25.0->spotipy) (3.2)\n",
      "Requirement already satisfied: charset-normalizer~=2.0.0 in ./opt/anaconda3/lib/python3.9/site-packages (from requests>=2.25.0->spotipy) (2.0.4)\n",
      "Note: you may need to restart the kernel to use updated packages.\n"
     ]
    }
   ],
   "source": [
    "pip install spotipy"
   ]
  },
  {
   "cell_type": "code",
   "execution_count": 2,
   "id": "1a2da253",
   "metadata": {},
   "outputs": [],
   "source": [
    "import os\n",
    "import spotipy\n",
    "from spotipy.oauth2 import SpotifyClientCredentials\n",
    "from spotipy.oauth2 import SpotifyOAuth\n",
    "import pandas as pd\n",
    "import numpy as np"
   ]
  },
  {
   "cell_type": "code",
   "execution_count": 3,
   "id": "683f17ae",
   "metadata": {},
   "outputs": [],
   "source": [
    "# # Set up client credentials\n",
    "# client_id = '333b068e36a9489a9d53970bc93570ce'\n",
    "# client_secret = '7532915bd0224ecda66ab54d720b450f'\n",
    "\n",
    "# credentials = SpotifyClientCredentials(client_id=client_id, client_secret=client_secret)"
   ]
  },
  {
   "cell_type": "code",
   "execution_count": 4,
   "id": "6cda2395",
   "metadata": {},
   "outputs": [],
   "source": [
    "# # Authenticate with the Spotify Web API\n",
    "# sp = spotipy.Spotify(client_credentials_manager=credentials)"
   ]
  },
  {
   "cell_type": "code",
   "execution_count": 5,
   "id": "97b6d877",
   "metadata": {},
   "outputs": [],
   "source": [
    "# # Retrieve information about a track\n",
    "# track_name = 'Yellow'\n",
    "# track_results = sp.search(q=track_name, type='track')\n",
    "# track_uri = track_results['tracks']['items'][0]['uri']\n",
    "# track_info = sp.track(track_uri)"
   ]
  },
  {
   "cell_type": "code",
   "execution_count": 6,
   "id": "a82149b2",
   "metadata": {},
   "outputs": [
    {
     "name": "stdout",
     "output_type": "stream",
     "text": [
      "Track name: Yellow\n",
      "Artist name: Coldplay\n",
      "Album name: Parachutes\n",
      "Popularity: 86\n"
     ]
    }
   ],
   "source": [
    "# # Print the track information\n",
    "# print(f\"Track name: {track_info['name']}\")\n",
    "# print(f\"Artist name: {track_info['artists'][0]['name']}\")\n",
    "# print(f\"Album name: {track_info['album']['name']}\")\n",
    "# print(f'Popularity: {track_info[\"popularity\"]}')"
   ]
  },
  {
   "cell_type": "code",
   "execution_count": 7,
   "id": "9fede9f4",
   "metadata": {},
   "outputs": [],
   "source": [
    "# # Set up authorization flow\n",
    "# scope = \"user-library-read\"\n",
    "# sp = spotipy.Spotify(auth_manager=SpotifyOAuth(\n",
    "#     client_id=\"333b068e36a9489a9d53970bc93570ce\",\n",
    "#     client_secret=\"7532915bd0224ecda66ab54d720b450f\",\n",
    "#     redirect_uri=\"http://localhost:8000\",\n",
    "#     scope=scope))\n"
   ]
  },
  {
   "cell_type": "code",
   "execution_count": 8,
   "id": "1de99dad",
   "metadata": {},
   "outputs": [],
   "source": [
    "# # Retrieve information about the current user's Spotify account\n",
    "# user_info = sp.current_user()"
   ]
  },
  {
   "cell_type": "code",
   "execution_count": 9,
   "id": "3a4c56e1",
   "metadata": {},
   "outputs": [
    {
     "name": "stdout",
     "output_type": "stream",
     "text": [
      "wanadvm\n"
     ]
    }
   ],
   "source": [
    "# # Print the user's display name\n",
    "# print(user_info['display_name'])"
   ]
  },
  {
   "cell_type": "code",
   "execution_count": 10,
   "id": "2c084c12",
   "metadata": {},
   "outputs": [
    {
     "name": "stdout",
     "output_type": "stream",
     "text": [
      "I love ___\n",
      "Shifts\n",
      "Chintiat\n",
      "ND’s Galashee\n",
      "we belong in the streets\n",
      "s(pain)\n",
      "extra kewpie\n",
      "1,2\n",
      "rebirth in summer\n",
      "I miss going out\n",
      "early in the morning\n",
      "My chest hurt\n",
      "Footwerk it\n",
      "Thursday morning\n",
      "Don’t Cry\n",
      "Season of the Witch\n",
      "Return ke Hutan Vol 1\n",
      "20mg\n",
      "June 1st session\n",
      "School of life\n",
      "everything is going to be alright this morning\n",
      "mi psychedelic experience\n",
      "05.03.22\n",
      "🏃‍♀️\n",
      "i am running things\n",
      "shot 97 times\n",
      "its called house so stay at home vol 1\n",
      "👉🏼👈🏼🥺\n",
      "04.06.2020 \n",
      "vanilla frosting\n",
      "week6\n",
      "week 5\n",
      "tech house solution\n",
      "home is where the ____\n",
      "\n",
      "friendly gesture\n",
      "listen\n",
      "Headspace \n",
      "fleeing the country\n",
      "circoloco thailand 2019\n",
      "papercuts\n",
      "spring is around the corner\n",
      "first friday of december\n",
      "AlexBlakeCharlie session\n",
      "sunday night\n",
      "Home alone\n",
      "birthday playlist\n",
      "Accenture house mix\n",
      "shake that\n",
      "Lo-fi soundsystem\n"
     ]
    }
   ],
   "source": [
    "# # Get the playlists of the current user\n",
    "# playlists = sp.current_user_playlists()\n",
    "\n",
    "# # Print the names of the user's playlists\n",
    "# for playlist in playlists['items']:\n",
    "#     print(playlist['name'])"
   ]
  },
  {
   "cell_type": "code",
   "execution_count": 11,
   "id": "7d578c8c",
   "metadata": {},
   "outputs": [],
   "source": [
    "# results = sp.current_user_saved_tracks()\n",
    "# tracks = results['items']\n",
    "# while results['next']:\n",
    "#     results = sp.next(results)\n",
    "#     tracks.extend(results['items'])"
   ]
  },
  {
   "cell_type": "code",
   "execution_count": null,
   "id": "3f4686c9",
   "metadata": {},
   "outputs": [],
   "source": [
    "# track_info = []\n",
    "# for track in tracks:\n",
    "#     track_id = track['track']['id']\n",
    "#     track_name = track['track']['name']\n",
    "#     track_artist = track['track']['artists'][0]['name']\n",
    "#     track_album = track['track']['album']['name']\n",
    "#     track_popularity = track['track']['popularity']\n",
    "#     track_info.append({'id': track_id, 'name': track_name, 'artist': track_artist, 'album': track_album, 'popularity': track_popularity})"
   ]
  },
  {
   "cell_type": "code",
   "execution_count": null,
   "id": "b3aeee88",
   "metadata": {},
   "outputs": [],
   "source": [
    "# audio_features = []\n",
    "# for track in track_info:\n",
    "#     features = sp.audio_features(track['id'])[0]\n",
    "#     audio_features.append(features)\n",
    "\n",
    "# audio_features_df = pd.DataFrame(audio_features)"
   ]
  },
  {
   "cell_type": "code",
   "execution_count": null,
   "id": "ee7df141",
   "metadata": {},
   "outputs": [],
   "source": [
    "# print(track_info[0])"
   ]
  },
  {
   "cell_type": "code",
   "execution_count": null,
   "id": "84313145",
   "metadata": {},
   "outputs": [],
   "source": [
    "# # Get all liked tracks\n",
    "# offset = 0\n",
    "# limit = 50\n",
    "\n",
    "# # Extract relevant information from each track and store in a list\n",
    "# tracks_data = []\n",
    "# for track in all_tracks:\n",
    "#     track_data = {}\n",
    "#     track_data[\"track_name\"] = track[\"track\"][\"name\"]\n",
    "#     track_data[\"artist_name\"] = track[\"track\"][\"artists\"][0][\"name\"]\n",
    "#     track_data[\"album_name\"] = track[\"track\"][\"album\"][\"name\"]\n",
    "#     track_data[\"release_date\"] = track[\"track\"][\"album\"][\"release_date\"][:4]  # Extract year from release date\n",
    "#     track_data[\"length\"] = track[\"track\"][\"duration_ms\"]\n",
    "#     track_data[\"popularity\"] = track[\"track\"][\"popularity\"]\n",
    "#     track_data[\"id\"] = track[\"track\"][\"id\"]\n",
    "#     audio_features = sp.audio_features(track[\"track\"][\"id\"])[0]\n",
    "#     track_data[\"acousticness\"] = audio_features[\"acousticness\"]\n",
    "#     track_data[\"danceability\"] = audio_features[\"danceability\"]\n",
    "#     track_data[\"energy\"] = audio_features[\"energy\"]\n",
    "#     track_data[\"instrumentalness\"] = audio_features[\"instrumentalness\"]\n",
    "#     track_data[\"key\"] = audio_features[\"key\"]\n",
    "#     track_data[\"liveness\"] = audio_features[\"liveness\"]\n",
    "#     track_data[\"loudness\"] = audio_features[\"loudness\"]\n",
    "#     track_data[\"mode\"] = audio_features[\"mode\"]\n",
    "#     track_data[\"speechiness\"] = audio_features[\"speechiness\"]\n",
    "#     track_data[\"tempo\"] = audio_features[\"tempo\"]\n",
    "#     track_data[\"time_signature\"] = audio_features[\"time_signature\"]\n",
    "#     tracks_data.append(track_data)"
   ]
  },
  {
   "cell_type": "code",
   "execution_count": null,
   "id": "7799df88",
   "metadata": {},
   "outputs": [],
   "source": [
    "df = pd.DataFrame(all_tracks)\n",
    "df.head()\n",
    "df.describe()"
   ]
  },
  {
   "cell_type": "code",
   "execution_count": null,
   "id": "b0fa46ae",
   "metadata": {},
   "outputs": [],
   "source": [
    "import os\n",
    "os.getcwd()"
   ]
  },
  {
   "cell_type": "code",
   "execution_count": 3,
   "id": "090eb580",
   "metadata": {},
   "outputs": [],
   "source": [
    "df = pd.read_csv(\"spotify_liked_songs.csv\")"
   ]
  },
  {
   "cell_type": "code",
   "execution_count": 4,
   "id": "112f494c",
   "metadata": {},
   "outputs": [
    {
     "name": "stdout",
     "output_type": "stream",
     "text": [
      "(4394, 18)\n"
     ]
    }
   ],
   "source": [
    "print(df.shape)"
   ]
  },
  {
   "cell_type": "code",
   "execution_count": 5,
   "id": "ba7ef586",
   "metadata": {},
   "outputs": [
    {
     "name": "stdout",
     "output_type": "stream",
     "text": [
      "track_name          28\n",
      "artist_name         28\n",
      "album_name          28\n",
      "release_date         0\n",
      "length               0\n",
      "popularity           0\n",
      "id                   0\n",
      "acousticness         0\n",
      "danceability         0\n",
      "energy               0\n",
      "instrumentalness     0\n",
      "key                  0\n",
      "liveness             0\n",
      "loudness             0\n",
      "mode                 0\n",
      "speechiness          0\n",
      "tempo                0\n",
      "time_signature       0\n",
      "dtype: int64\n"
     ]
    }
   ],
   "source": [
    "print(df.isnull().sum())"
   ]
  },
  {
   "cell_type": "code",
   "execution_count": 6,
   "id": "b9ef1912",
   "metadata": {},
   "outputs": [
    {
     "name": "stdout",
     "output_type": "stream",
     "text": [
      "track_name           object\n",
      "artist_name          object\n",
      "album_name           object\n",
      "release_date         object\n",
      "length                int64\n",
      "popularity            int64\n",
      "id                   object\n",
      "acousticness        float64\n",
      "danceability        float64\n",
      "energy              float64\n",
      "instrumentalness    float64\n",
      "key                   int64\n",
      "liveness            float64\n",
      "loudness            float64\n",
      "mode                  int64\n",
      "speechiness         float64\n",
      "tempo               float64\n",
      "time_signature        int64\n",
      "dtype: object\n"
     ]
    }
   ],
   "source": [
    "print(df.dtypes)"
   ]
  },
  {
   "cell_type": "code",
   "execution_count": 7,
   "id": "3385d922",
   "metadata": {},
   "outputs": [
    {
     "name": "stdout",
     "output_type": "stream",
     "text": [
      "0\n"
     ]
    }
   ],
   "source": [
    "print(df.duplicated().sum())\n",
    "df.drop_duplicates(inplace=True)"
   ]
  },
  {
   "cell_type": "code",
   "execution_count": 8,
   "id": "ff920e9f",
   "metadata": {},
   "outputs": [
    {
     "name": "stdout",
     "output_type": "stream",
     "text": [
      "             length   popularity  acousticness  danceability       energy  \\\n",
      "count  4.394000e+03  4394.000000   4394.000000   4394.000000  4394.000000   \n",
      "mean   2.486498e+05    21.339782      0.310564      0.591557     0.587564   \n",
      "std    1.435849e+05    23.297000      0.315147      0.183040     0.229860   \n",
      "min    0.000000e+00     0.000000      0.000001      0.000000     0.000024   \n",
      "25%    1.803860e+05     0.000000      0.032000      0.467000     0.435000   \n",
      "50%    2.260795e+05    12.000000      0.190000      0.607000     0.605000   \n",
      "75%    2.916182e+05    40.000000      0.543750      0.734000     0.760000   \n",
      "max    3.815786e+06    88.000000      0.996000      0.980000     0.999000   \n",
      "\n",
      "       instrumentalness          key     liveness     loudness         mode  \\\n",
      "count       4394.000000  4394.000000  4394.000000  4394.000000  4394.000000   \n",
      "mean           0.232374     5.267865     0.202624    -9.428974     0.582840   \n",
      "std            0.342084     3.648190     0.170188     4.762321     0.493146   \n",
      "min            0.000000     0.000000     0.018500   -39.524000     0.000000   \n",
      "25%            0.000007     2.000000     0.098700   -11.098750     0.000000   \n",
      "50%            0.004825     5.000000     0.127000    -8.406500     1.000000   \n",
      "75%            0.497750     9.000000     0.257000    -6.409250     1.000000   \n",
      "max            0.993000    11.000000     0.982000     1.342000     1.000000   \n",
      "\n",
      "       speechiness        tempo  time_signature  \n",
      "count  4394.000000  4394.000000     4394.000000  \n",
      "mean      0.120185   118.718109        3.916932  \n",
      "std       0.135132    30.067566        0.437976  \n",
      "min       0.000000     0.000000        0.000000  \n",
      "25%       0.037700    94.962750        4.000000  \n",
      "50%       0.057350   118.984000        4.000000  \n",
      "75%       0.147000   138.003500        4.000000  \n",
      "max       0.946000   244.035000        5.000000  \n"
     ]
    }
   ],
   "source": [
    "print(df.describe())"
   ]
  },
  {
   "cell_type": "code",
   "execution_count": 9,
   "id": "aaba3f6a",
   "metadata": {},
   "outputs": [
    {
     "data": {
      "image/png": "[encoded data removed]",
      "text/plain": [
       "<Figure size 432x288 with 1 Axes>"
      ]
     },
     "metadata": {
      "needs_background": "light"
     },
     "output_type": "display_data"
    }
   ],
   "source": [
    "import matplotlib.pyplot as plt\n",
    "\n",
    "plt.hist(df[\"popularity\"])\n",
    "plt.show()"
   ]
  },
  {
   "cell_type": "code",
   "execution_count": 10,
   "id": "f1b112d3",
   "metadata": {},
   "outputs": [
    {
     "data": {
      "image/png": "[encoded data removed]",
      "text/plain": [
       "<Figure size 432x288 with 1 Axes>"
      ]
     },
     "metadata": {
      "needs_background": "light"
     },
     "output_type": "display_data"
    }
   ],
   "source": [
    "plt.scatter(df[\"length\"], df[\"popularity\"])\n",
    "plt.xlabel(\"Length (ms)\")\n",
    "plt.ylabel(\"Popularity\")\n",
    "plt.show()"
   ]
  },
  {
   "cell_type": "code",
   "execution_count": 11,
   "id": "7800bb33",
   "metadata": {},
   "outputs": [
    {
     "data": {
      "image/png": "[encoded data removed]",
      "text/plain": [
       "<Figure size 432x288 with 1 Axes>"
      ]
     },
     "metadata": {
      "needs_background": "light"
     },
     "output_type": "display_data"
    }
   ],
   "source": [
    "df.groupby(\"artist_name\")[\"popularity\"].mean().sort_values(ascending=False)[:10].plot(kind=\"bar\")\n",
    "plt.ylabel(\"Average Popularity\")\n",
    "plt.show()"
   ]
  },
  {
   "cell_type": "code",
   "execution_count": null,
   "id": "38bfede3",
   "metadata": {},
   "outputs": [],
   "source": []
  }
 ],
 "metadata": {
  "kernelspec": {
   "display_name": "Python 3 (ipykernel)",
   "language": "python",
   "name": "python3"
  },
  "language_info": {
   "codemirror_mode": {
    "name": "ipython",
    "version": 3
   },
   "file_extension": ".py",
   "mimetype": "text/x-python",
   "name": "python",
   "nbconvert_exporter": "python",
   "pygments_lexer": "ipython3",
   "version": "3.9.7"
  }
 },
 "nbformat": 4,
 "nbformat_minor": 5
}
